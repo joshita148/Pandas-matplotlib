{
 "cells": [
  {
   "cell_type": "markdown",
   "id": "1e2a79f4-d3de-4041-b679-122777fc2f13",
   "metadata": {},
   "source": [
    "### Q1. The Most Dangerous city in Jammu and Kashmir and the terrorist group which is most active in that city?\n",
    "### Print count of number of attacks in that city as integer value.\n",
    "### Note:Ignoring the Unknown Terrorist Group.Here Dangerous related with the number of terrorist attacks."
   ]
  },
  {
   "cell_type": "code",
   "execution_count": 63,
   "id": "965c57e4-035d-4a95-8ee9-12a1332bc7f3",
   "metadata": {},
   "outputs": [
    {
     "name": "stdout",
     "output_type": "stream",
     "text": [
      "Srinagar   657   Muslim Separatists\n"
     ]
    }
   ],
   "source": [
    "import pandas as pd\n",
    "df=pd.read_csv(\"terrorismData.csv\")\n",
    "df=df[df.State==\"Jammu and Kashmir\"]\n",
    "city=df.City.describe().top\n",
    "attacks=df.City.describe().freq\n",
    "df=df[df.City==city]\n",
    "df1=df[df.Group!='Unknown']\n",
    "group=df1.Group.describe().top\n",
    "print(city,\" \", attacks, \" \", group)"
   ]
  },
  {
   "cell_type": "markdown",
   "id": "228c0da8-1381-4682-b4ed-73c867369665",
   "metadata": {},
   "source": [
    "### Q2. There was formation of new government in India on 26 May 2014. So current government's span is from 26th May 2014 to current. Find out two things from this period-\n",
    "   ### 1. Total number of attacks done in this period in India. Find this count as integer.\n",
    "   ### 2. Which Terrorist group was most active in this period in India. Most active means, group which has done maximum number of attacks. \n",
    "   ### 3.Ignore the Unknown group. "
   ]
  },
  {
   "cell_type": "code",
   "execution_count": 9,
   "id": "96541314-1881-495c-a5fb-2fecbd6b3475",
   "metadata": {},
   "outputs": [
    {
     "name": "stdout",
     "output_type": "stream",
     "text": [
      "3336   Maoists\n"
     ]
    }
   ],
   "source": [
    "import pandas as pd\n",
    "df=pd.read_csv(\"terrorismData.csv\")\n",
    "df=df[(df.Country=='India')]\n",
    "df1=df[df.Year>2014]\n",
    "df2=df[(df.Month>5) & (df.Year==2014)]\n",
    "df3=df[(df.Day>=26) & (df.Month==5) & (df.Year==2014)]\n",
    "df=pd.concat([df1,df2,df3])\n",
    "attacks=int(df.describe().loc['count']['Year'])\n",
    "df= df[df.Group != \"Unknown\"]\n",
    "group=df.Group.describe().top\n",
    "print(attacks,\" \", group)"
   ]
  },
  {
   "cell_type": "markdown",
   "id": "d222c5d2-d8b2-4966-91bc-43e5d53857c3",
   "metadata": {},
   "source": [
    "### Q3. Find the frequency of the Casualty in Red Corridor states and in Jammu and Kashmir ?Here Frequency is (Total Casualty/Total Number of a year)\n",
    "### Print frequency as integer value."
   ]
  },
  {
   "cell_type": "code",
   "execution_count": 86,
   "id": "7e05f26a-2471-436c-9072-bfd1ebc7286e",
   "metadata": {},
   "outputs": [
    {
     "name": "stdout",
     "output_type": "stream",
     "text": [
      "115 261 "
     ]
    },
    {
     "name": "stderr",
     "output_type": "stream",
     "text": [
      "<ipython-input-86-359aab1f08e1>:6: SettingWithCopyWarning: \n",
      "A value is trying to be set on a copy of a slice from a DataFrame.\n",
      "Try using .loc[row_indexer,col_indexer] = value instead\n",
      "\n",
      "See the caveats in the documentation: https://pandas.pydata.org/pandas-docs/stable/user_guide/indexing.html#returning-a-view-versus-a-copy\n",
      "  df1['casualty']= df1['Killed']+ df1['Wounded']\n",
      "<ipython-input-86-359aab1f08e1>:10: SettingWithCopyWarning: \n",
      "A value is trying to be set on a copy of a slice from a DataFrame.\n",
      "Try using .loc[row_indexer,col_indexer] = value instead\n",
      "\n",
      "See the caveats in the documentation: https://pandas.pydata.org/pandas-docs/stable/user_guide/indexing.html#returning-a-view-versus-a-copy\n",
      "  df2['casualty']= df2['Killed']+ df2['Wounded']\n"
     ]
    }
   ],
   "source": [
    "import pandas as pd\n",
    "df=pd.read_csv(\"terrorismData.csv\")\n",
    "df=df[(df.Region=='South Asia')]\n",
    "\n",
    "df1=df[(df.State=='Jharkhand') | (df.State=='Odisha') | (df.State=='Andhra Pradesh') | (df.State=='Chhattisgarh')]\n",
    "df1['casualty']= df1['Killed']+ df1['Wounded']\n",
    "print(int(df1.casualty.sum()/47), end=\" \")\n",
    "\n",
    "df2=df[(df.State=='Jammu and Kashmir')]\n",
    "df2['casualty']= df2['Killed']+ df2['Wounded']\n",
    "print(int(df2.casualty.sum()/47), end=\" \")"
   ]
  },
  {
   "cell_type": "markdown",
   "id": "c623fbaa-cb44-46a0-be65-7b12f054bbde",
   "metadata": {},
   "source": [
    "### Q4. Most Deadliest attack in a history of HumanKind?\n",
    "### Print count of Killed people as integer value."
   ]
  },
  {
   "cell_type": "code",
   "execution_count": 29,
   "id": "f859368e-1a1f-4fa3-9950-0620eb7c714f",
   "metadata": {},
   "outputs": [
    {
     "name": "stdout",
     "output_type": "stream",
     "text": [
      "1570   Iraq   Islamic State of Iraq and the Levant (ISIL)\n"
     ]
    }
   ],
   "source": [
    "import pandas as pd\n",
    "df=pd.read_csv(\"terrorismData.csv\")\n",
    "maxx=df.Killed.describe().loc['max']\n",
    "counrty=df[df.Killed==maxx]['Country'].iloc[0]\n",
    "group= df[df.Killed==maxx]['Group'].iloc[0]\n",
    "print(int(maxx),\" \", country)"
   ]
  },
  {
   "cell_type": "markdown",
   "id": "0147c98b-d6d6-43ca-b831-b33531d32949",
   "metadata": {},
   "source": [
    "### Q5. Find out the Country with Highest Number of Terror Attack and in which year the most number of terrorist attack happened in that country ?\n",
    "### Print count of terror attacks as integer value."
   ]
  },
  {
   "cell_type": "code",
   "execution_count": 64,
   "id": "f9192911-81e2-43ef-ac2c-c95ab6c6b824",
   "metadata": {},
   "outputs": [
    {
     "name": "stdout",
     "output_type": "stream",
     "text": [
      "Iraq   24636   2014\n"
     ]
    }
   ],
   "source": [
    "import pandas as pd\n",
    "df=pd.read_csv(\"terrorismData.csv\")\n",
    "country=df.Country.describe().top\n",
    "attacks=df.Country.describe().freq\n",
    "year=df[df.Country==country].Year.value_counts().index[0]\n",
    "print(country,\" \", attacks,\" \", year)"
   ]
  },
  {
   "cell_type": "markdown",
   "id": "f23388b6-479b-415f-bbfb-ec8750bd6c64",
   "metadata": {},
   "source": [
    "### Q6. As we knew the Kargil ( in Jammu and Kashmir) War that took place between May 1999 and July 1999 (3 Months) ,so there was a huge conflict in Kashmir Valley during this period.\n",
    "### In this dataset, there is no information regarding the war between the two countries to find out the casualty during the war.\n",
    "### So find out the attack in this period in which maximum casualties happened.\n",
    "### Print the count of casualties (as integer), city in which that attack happened and name of attack group.\n",
    "### Note : Casualty = Killed + Wounded.Fill the empty value in killed or wounded feature to 0."
   ]
  },
  {
   "cell_type": "code",
   "execution_count": 1,
   "id": "edbc55b3-f540-4224-a65e-21bf6c8abd2b",
   "metadata": {},
   "outputs": [
    {
     "name": "stdout",
     "output_type": "stream",
     "text": [
      "22   Kargil District   Separatists\n"
     ]
    }
   ],
   "source": [
    "import pandas as pd\n",
    "import numpy as np\n",
    "df=pd.read_csv(\"terrorismData.csv\")\n",
    "df=df[df.State==\"Jammu and Kashmir\"]\n",
    "df=df[(df.Year==1999) & (df.Month>=5) & (df.Month<=7)]\n",
    "df.Killed.fillna(0, inplace= True)\n",
    "df.Wounded.fillna(0, inplace= True )\n",
    "df['casualty']= df['Killed']+ df['Wounded']\n",
    "maxx=df.casualty.describe().loc['max']\n",
    "city=df[df.casualty==maxx].City.iloc[0]\n",
    "group=df[df.casualty==maxx].Group.iloc[0]\n",
    "print(int(maxx),\" \", city, \" \", group)"
   ]
  },
  {
   "cell_type": "markdown",
   "id": "9dfaca7c-ff87-4c94-bb0f-94b9ff483180",
   "metadata": {},
   "source": [
    "### Q7. Find top 5 Indian Cities which has most number of casualties ?\n",
    "### Print top 5 cities along with total casualties in that city. Print count of Casualty as integer value.\n",
    "### Note: Ignoring the City which is Unknown.\n",
    "### Casualty = Killed + Wounded."
   ]
  },
  {
   "cell_type": "code",
   "execution_count": 35,
   "id": "b29b1a67-aacb-4adc-ad3f-6ab7b2f23004",
   "metadata": {},
   "outputs": [
    {
     "name": "stdout",
     "output_type": "stream",
     "text": [
      "Srinagar   3134\n",
      "New Delhi   2095\n",
      "Mumbai   2016\n",
      "Jammu   1119\n",
      "Guwahati   822\n"
     ]
    }
   ],
   "source": [
    "import numpy as np\n",
    "import pandas as pd\n",
    "import csv\n",
    "killed=[]\n",
    "wounded=[]\n",
    "city=[]\n",
    "l1=[]\n",
    "with open('terrorismData.csv',encoding=\"utf8\") as f:\n",
    "    file_data=csv.DictReader(f, skipinitialspace=True)\n",
    "    for row in file_data:\n",
    "        if row['Country']=='India'and row['City']!='Unknown':\n",
    "            killed.append(row['Killed'])\n",
    "            wounded.append(row['Wounded'])\n",
    "            city.append(row['City'])\n",
    "            \n",
    "np_city=np.array(city)\n",
    "np_killed=np.array(killed)\n",
    "np_killed[np_killed=='']='0.0'\n",
    "np_killed=np.array(np_killed, dtype=float)\n",
    "np_killed=np.array(np_killed, dtype=int)\n",
    "\n",
    "np_wounded=np.array(wounded)\n",
    "np_wounded[np_wounded=='']='0.0'\n",
    "np_wounded=np.array(np_wounded, dtype=float)\n",
    "np_wounded=np.array(np_wounded, dtype=int)\n",
    "np_casualty=np_killed+ np_wounded\n",
    "\n",
    "unique=np.unique(np_city)\n",
    "df=pd.DataFrame(np_city)\n",
    "df.columns=['city']\n",
    "df['casualty']=np_casualty\n",
    "for i in unique:\n",
    "    l1.append(df.casualty[df.city==i].sum()) \n",
    "l=np.array(l1)   \n",
    "for i in range(-1,-6,-1):\n",
    "    a=sorted(l)[i]\n",
    "    index=np.where(l==a)\n",
    "    print(unique[index],\" \",a)"
   ]
  },
  {
   "cell_type": "markdown",
   "id": "23dc3628-ef60-4348-a6b0-c7895da93516",
   "metadata": {},
   "source": [
    "### Q8. Find the most frequent day of attack in a terrorismDataset ?\n",
    "### Note: Here np.unique can be used.\n",
    "### Print count of frequent day and number of attack as Integer value."
   ]
  },
  {
   "cell_type": "code",
   "execution_count": 9,
   "id": "ef06f3ec-7018-48e2-b33c-2bb53be9d52a",
   "metadata": {},
   "outputs": [
    {
     "name": "stdout",
     "output_type": "stream",
     "text": [
      "15   6500\n"
     ]
    }
   ],
   "source": [
    "import numpy as np\n",
    "import csv\n",
    "day=[]\n",
    "d={}\n",
    "with open('terrorismData.csv',encoding=\"utf8\") as f:\n",
    "    file_data=csv.DictReader(f, skipinitialspace=True)\n",
    "    for row in file_data:\n",
    "        day.append(row['Day'])\n",
    "\n",
    "for i in day:\n",
    "    d[i]=d.get(i,0)+1\n",
    "key=np.array([i for i in d.keys()])\n",
    "value=np.array([i for i in d.values()])\n",
    "maxx=value.max()\n",
    "print(key[value==maxx][0],\" \", maxx)"
   ]
  },
  {
   "cell_type": "code",
   "execution_count": null,
   "id": "a0a057c6-6e90-461a-9bd5-aa05f2055d45",
   "metadata": {},
   "outputs": [],
   "source": []
  }
 ],
 "metadata": {
  "kernelspec": {
   "display_name": "Python 3",
   "language": "python",
   "name": "python3"
  },
  "language_info": {
   "codemirror_mode": {
    "name": "ipython",
    "version": 3
   },
   "file_extension": ".py",
   "mimetype": "text/x-python",
   "name": "python",
   "nbconvert_exporter": "python",
   "pygments_lexer": "ipython3",
   "version": "3.8.8"
  }
 },
 "nbformat": 4,
 "nbformat_minor": 5
}
